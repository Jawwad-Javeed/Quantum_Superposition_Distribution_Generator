{
 "cells": [
  {
   "cell_type": "code",
   "execution_count": null,
   "id": "87e13808-9275-4073-9b1b-1e2f1023e9d4",
   "metadata": {},
   "outputs": [],
   "source": [
    "#Import Qiskit and Qiskit.Visualization and math for qc.ry\n",
    "import qiskit\n",
    "from qiskit import QuantumCircuit, assemble, Aer,execute\n",
    "from qiskit.visualization import plot_histogram,plot_bloch_multivector\n",
    "from math import pi"
   ]
  },
  {
   "cell_type": "code",
   "execution_count": 578,
   "id": "33c92f23-36e5-4c3b-be39-9d23b8183a6b",
   "metadata": {},
   "outputs": [],
   "source": [
    "#Set Current Qiskit Backend to QASM Simulator \n",
    "#Switch if using IBM Quantum Computers\n",
    "sim=Aer.get_backend('qasm_simulator')"
   ]
  },
  {
   "cell_type": "code",
   "execution_count": 579,
   "id": "9a78249c-e054-4d84-8b9a-649f5037b922",
   "metadata": {},
   "outputs": [],
   "source": [
    "#Intializes Quantum Circuit with 1 Qubit and 1 Classical Bit\n",
    "qc=QuantumCircuit(1,1)\n",
    "sim_run=1000000"
   ]
  },
  {
   "cell_type": "code",
   "execution_count": 580,
   "id": "4b6759b7-ca54-4466-aac9-18b705ab32da",
   "metadata": {},
   "outputs": [],
   "source": [
    "#Specifies P(|1>) (Probability of |1>)\n",
    "#P(|0>)=(1-P(|1>))\n",
    "Prob_Value=int(input(\"Specify Required Distribution Percentage of |1>(Enter from 0 to 100)\"))\n"
   ]
  },
  {
   "cell_type": "code",
   "execution_count": 581,
   "id": "3cb6bc26-c2d9-471d-8a67-4f34d05a18b0",
   "metadata": {},
   "outputs": [
    {
     "data": {
      "text/plain": [
       "<qiskit.circuit.instructionset.InstructionSet at 0x7f4ebc994300>"
      ]
     },
     "execution_count": 590,
     "metadata": {},
     "output_type": "execute_result"
    }
   ],
   "source": [
    "#Calculates rotation required by Y axis(utilizing a Cubic Polynomial equation) in order to generate required distribution of |0> and |1>\n",
    "qc.ry(((Prob_Value/(((-3*(10**-5))*(Prob_Value**3)) - (0.0008*(Prob_Value**2)) + (1.8842*(Prob_Value)) + (32.24)))*pi),0)"
   ]
  },
  {
   "cell_type": "code",
   "execution_count": 582,
   "id": "63da6945-d3ce-48a8-aeaf-96e3c66ca8da",
   "metadata": {},
   "outputs": [],
   "source": [
    "#Run code to check Bloch spheres of Qubits in superposition\n",
    "#qc.save_statevector()\n",
    "#qobj=assemble(qc)\n",
    "#result=sim.run(qobj).result().get_statevector()\n",
    "#plot_bloch_multivector(result)"
   ]
  },
  {
   "cell_type": "code",
   "execution_count": 583,
   "id": "d1dcc2cb-1092-4632-8fd0-95c0bce8bfb2",
   "metadata": {},
   "outputs": [
    {
     "data": {
      "text/plain": [
       "<qiskit.circuit.instructionset.InstructionSet at 0x7f4ebc9684c0>"
      ]
     },
     "execution_count": 592,
     "metadata": {},
     "output_type": "execute_result"
    }
   ],
   "source": [
    "#Collapses superposition of every Qubit and assigns value to corrosponding Classical bit\n",
    "qc.measure(0,0)"
   ]
  },
  {
   "cell_type": "code",
   "execution_count": 584,
   "id": "a1313a9f-2328-4c97-b164-450b2aa58984",
   "metadata": {},
   "outputs": [],
   "source": [
    "#Creates barrier between gates and measurements for qc.draw() and optimization level\n",
    "#qc.draw()"
   ]
  },
  {
   "cell_type": "code",
   "execution_count": 585,
   "id": "071cc903-2dc4-4d1d-9d20-12b728e4e2c0",
   "metadata": {},
   "outputs": [
    {
     "data": {
      "image/png": "[encoded data removed]",
      "text/plain": [
       "<Figure size 504x360 with 1 Axes>"
      ]
     },
     "execution_count": 594,
     "metadata": {},
     "output_type": "execute_result"
    }
   ],
   "source": [
    "#displays probabilities of all Qubit values\n",
    "job=execute(qc,sim,shots=sim_run)\n",
    "result=job.result()\n",
    "counts=result.get_counts()\n",
    "plot_histogram(counts)"
   ]
  },
  {
   "cell_type": "code",
   "execution_count": null,
   "id": "3d9ba465-211e-4c49-8854-c9f0a5668fb4",
   "metadata": {},
   "outputs": [],
   "source": []
  },
  {
   "cell_type": "code",
   "execution_count": null,
   "id": "a79906b5-53da-4122-b02b-b97837a3b4d6",
   "metadata": {},
   "outputs": [],
   "source": []
  },
  {
   "cell_type": "code",
   "execution_count": null,
   "id": "aa8d4390-2049-4e4d-9fbe-534f15f3f4a7",
   "metadata": {},
   "outputs": [],
   "source": []
  }
 ],
 "metadata": {
  "kernelspec": {
   "display_name": "Python 3.10.4 ('Qiskit')",
   "language": "python",
   "name": "python3"
  },
  "language_info": {
   "codemirror_mode": {
    "name": "ipython",
    "version": 3
   },
   "file_extension": ".py",
   "mimetype": "text/x-python",
   "name": "python",
   "nbconvert_exporter": "python",
   "pygments_lexer": "ipython3",
   "version": "3.10.4"
  },
  "vscode": {
   "interpreter": {
    "hash": "09240a276b16b6fde8f96eabb23ee62f2404dee27ecaaf4330ce2e4b5e24310a"
   }
  },
  "widgets": {
   "application/vnd.jupyter.widget-state+json": {
    "state": {},
    "version_major": 2,
    "version_minor": 0
   }
  }
 },
 "nbformat": 4,
 "nbformat_minor": 5
}
